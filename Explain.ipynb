{
 "cells": [
  {
   "cell_type": "markdown",
   "metadata": {},
   "source": [
    "# Kinetic Monte Carlo code for Polyesters Step-Growth Polymerization \n",
    "---\n"
   ]
  },
  {
   "cell_type": "markdown",
   "metadata": {},
   "source": [
    "## INTRODUCTION\n",
    "Monte Carlo methods refer to a broad class of stochastic algorithms that try to solve problems using random numbers. The name Monte Carlo was given by Metropolis referring to the extensive use of random numbers, like in a casinò in Monte Carlo.\n",
    "\n",
    "Metropolis, Von Neumann and Ulam were the first to develop a Monte Carlo Method between 1940 and 1950 while working at Los Alamos laboratory.\n",
    "\n",
    "Today the Monte Carlo method is one of the most communly used to technique to study complex system. Its application ranges from physical and chemical problems such as the Ising model, Ensemble sampling, Chemical reactions to social sciences (e.g. Schelling model) and Epidemiology (e.g. Covid Simulations).\n",
    "\n",
    "The following code will focus on a particular implementation of the Monte Carlo code called Kinetic Monte Carlo which was developed to study the step-growth polymerization of different polyesters. The algorithm implemented is the famous Gillespie Algorithm {cite:p}\n"
   ]
  },
  {
   "cell_type": "markdown",
   "metadata": {},
   "source": [
    "\n",
    "## KINETIC MONTE CARLO\n",
    "\n",
    "The time evolution of chemical reaction can be studied using either a deterministic or a stochastic approach. \n",
    "In the first, time evolution is described by a set of ordinary differential equations. In the latter the time\n",
    "evolution takes the form of a Master equation (Markovian random walk differential-difference equation). \n",
    "\n",
    "Consider a chemical system with N species where $x_i$ represent the number of the $i$ species. How can we model\n",
    "chemical reactions using both approaches?\n",
    "### Deterministic approach\n",
    "The deterministic approach generates sets of coupled ordinary differential\n",
    "equations of the form \n",
    "\n",
    "$$    \\frac{dx_i}{dt} = f_i(x_i, ...,x_n) $$\n",
    "\n",
    "Solving the system of differential equations allows us to know the composition of the phase space\n",
    "of the chemical system at each point in space. Most of the time we are interested in the equilibrium state\n",
    "of a chemical system which follows \n",
    "\n",
    "$$ \\frac{dx_i}{dt} = 0 $$\n",
    "\n",
    "Let's now consider the following set of chemical reactions\n",
    "\n",
    "$$ A \\overset{k_{ab}}{\\rightarrow} B \\overset{k_{bc}}{\\rightarrow} C $$\n",
    "$$ C \\overset{k_{cd}}{\\rightleftharpoons} D $$\n",
    "\n",
    "the time evolution of the concentrations\n",
    "of A, B, and C and D can be described by the system of ordinary differential equations\n",
    "\n",
    "$$ \\frac{dA}{dt} = -k_{ab}A$$\n",
    "$$ \\frac{dB}{dt} = k_{ab}A - k_{bc}B$$\n",
    "$$ \\frac{dC}{dt} = k_{bc}B - k_{cd}C$$\n",
    "$$ \\frac{dD}{dt} = k_{cd}C$$\n",
    "\n",
    "Although the deterministic approach is often adequate to describe the system under studies it has short comings including:\n",
    "\n",
    "1. Species populations evolves in a discrete way and not continuously\n",
    "2. The time evolution is not deterministic\n",
    "3. It is not suitable to explore system with chemical instabilities or fluctuations\n",
    "\n",
    "For this reason a stochastic approach is employed even though most of the time the master equation involved\n",
    "is too hard to solve analitically.\n",
    "In this approach, the reaction constants are viewed as probabilities per unit time.\n",
    "\n",
    "### Stochastic approach\n",
    "\n",
    "Consider a chemical system with N species $x_i$  and denote the population\n",
    "levels of $x_i$ at time $t$ as $x_(t)$. Suppose that the species can participate in M chemical reactions \n",
    "and let $R_i$ refer to the ith reaction each characterized by a numerical reaction parameter $c_{i}$\n",
    "\n",
    "The fundamental hypothesis of the stochastic formulation of chemical kinetics\n",
    "(and the only “assumption” to be made by our computational method) is that the\n",
    "reaction parameter $c_i$, which characterizes reaction $R_i$, can be defined as follows.\n",
    "\n",
    "$c_idt$ = average probability, to first order in dt, that a\n",
    "particular combination of $R_i$, reactant molecules will\n",
    "react accordingly in the next time interval dt.\n",
    "\n",
    "The connection between k_i as defined in deterministic approach and c_i for an homogeneous system\n",
    "\n",
    "$$ k_i = \\frac{\\langle x_ix_j\\rangle}{\\langle x_i\\rangle\\langle x_j\\rangle} Vc_i $$\n",
    "\n",
    "However, in the deterministic formulation no distinction is made between the\n",
    "average of a product and the product of the averages which simplifies the above expression to\n",
    "\n",
    "$$ k_i = Vc_i $$\n",
    "\n",
    "If the reaction is of the type $x_{i} x_{i}$ instead of $x_{i} x_{j}$\n",
    "then we would get \n",
    "$$ k_i = Vc_i/2 $$\n",
    "to take into consideration the number of possible pairs.\n",
    "For monomolecular reactions $k_i$ and $c_i$ will be\n",
    "equal; for trimolecular reactions we shall use $V^2$.\n",
    "\n",
    "\n",
    "Knowing all of this is not possible by considering all the probabilities the master equation which\n",
    "although exactly describes the time evolution of a system,\n",
    "its formulation and solution is not always plausible. \n",
    "\n",
    "Stochastic methods such as Monte Carlo can generate the exact probabilities of a system without the need for\n",
    "the master equation to be explicitly expressed.\n",
    "\n",
    "Assume that the system is restricted to a volume V and let $x_i(t)$ denote the number of molecules of species i \n",
    "in the system at time t. \n",
    "We know want to know when the next reaction will occur and which one will it be.\n",
    "\n",
    "Gillespie algorithm tries to answer this questions:\n",
    "\n",
    "The probability of each reaction is given by their kinetic constant divided by the sum of the kinetic constants for all the species in the system \n",
    "\n",
    "$$ P(R_i) = \\frac{c_i}{\\sum_{i=1}^{M}c_i}$$\n",
    "\n",
    "and the time the next reaction occurs is given by \n",
    "\n",
    "$$ \\tau = \\frac{1}{a}\\ln{\\left(\\frac{1}{r_1}\\right)} $$\n",
    "\n",
    "where $r_1$ is a random number taken from the uniform distribution.\n",
    "\n",
    "the occurring reaction is selected by\n",
    "\n",
    "$$ \\sum_{i=1}^{\\mu - 1} a_i < r_2 a <= \\sum_{i=1}^{\\mu} a_i$$\n",
    "\n",
    "where $\\mu = 1, ..., M$\n",
    "\n",
    "For a proper derivation of all the equations discussed and Gillespie Algorithm see [].\n",
    "\n",
    "The computational time is dependent upon the\n",
    "number of reactions."
   ]
  },
  {
   "cell_type": "markdown",
   "metadata": {},
   "source": [
    "## CODE STEP BY STEP"
   ]
  },
  {
   "cell_type": "code",
   "execution_count": null,
   "metadata": {},
   "outputs": [],
   "source": []
  },
  {
   "cell_type": "markdown",
   "metadata": {},
   "source": [
    "## SOME ANALYSIS"
   ]
  }
 ],
 "metadata": {
  "interpreter": {
   "hash": "ce1053efd7ee2fef73e84320b1c8303fc11a235caf109d9999f45d6018d3810f"
  },
  "kernelspec": {
   "display_name": "Python 3.8.0 64-bit",
   "name": "python3"
  },
  "language_info": {
   "codemirror_mode": {
    "name": "ipython",
    "version": 3
   },
   "file_extension": ".py",
   "mimetype": "text/x-python",
   "name": "python",
   "nbconvert_exporter": "python",
   "pygments_lexer": "ipython3",
   "version": "3.8.0"
  },
  "orig_nbformat": 4
 },
 "nbformat": 4,
 "nbformat_minor": 2
}
